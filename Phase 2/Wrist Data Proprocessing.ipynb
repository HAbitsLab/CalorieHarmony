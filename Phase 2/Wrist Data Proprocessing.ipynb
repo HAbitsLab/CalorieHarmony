{
 "cells": [
  {
   "cell_type": "code",
   "execution_count": 106,
   "id": "59520384",
   "metadata": {},
   "outputs": [],
   "source": [
    "import pandas as pd\n",
    "import os\n",
    "import numpy as np\n",
    "import pytz\n",
    "from datetime import datetime\n",
    "from sort_resample_organize import resample\n",
    "import warnings\n",
    "warnings.filterwarnings(\"ignore\")"
   ]
  },
  {
   "cell_type": "markdown",
   "id": "4e6e7a7b",
   "metadata": {},
   "source": [
    "### Content\n",
    "<ol>\n",
    "    <li>Merge raw accelerometer and gyroscope data</li>\n",
    "    <li>Include only the in-lab session</li>\n",
    "    <li>Resampling to 20 hz</li>\n",
    "</ol>"
   ]
  },
  {
   "cell_type": "code",
   "execution_count": 107,
   "id": "bef9b160",
   "metadata": {},
   "outputs": [],
   "source": [
    "ROOT_PATH_ACC = '/Wild/Wrist/Clean/Original/Accelerometer/'\n",
    "ROOT_PATH_GYRO = '/Wild/Wrist/Clean/Original/Gyroscope/'\n",
    "ROOT_PATH_FSM = 'Y:/PrevMed/Alshurafa_Lab/Lab_Common/CalorieHarmony/A. Phase 2 Participants/P1000/'\n",
    "PATH_RESAMPLE_ACC = '/Wild/Wrist/Clean/Resampled/Accelerometer/'\n",
    "PATH_RESAMPLE_GYRO = '/Wild/Wrist/Clean/Resampled/Gyroscope/'"
   ]
  },
  {
   "cell_type": "code",
   "execution_count": 51,
   "id": "81cc2abd",
   "metadata": {},
   "outputs": [],
   "source": [
    "participant_list = ['1000','1001','1002','1003','1004','1005','1006','1007','1008','1009','1010','1011','1012','1013','1014','1015']\n",
    "met_cart_dic = {'1000':'01/27/2022 13:43:15',\n",
    "                '1001':'NA',\n",
    "                '1002':'02/09/2022 10:30:45',\n",
    "                '1003':'01/12/2022 15:47:36',\n",
    "                '1004':'01/21/2022 13:49:59',\n",
    "                '1005':'02/12/2022 11:57:42',\n",
    "                '1006':'03/22/2022 10:23:05',\n",
    "                '1007':'03/28/2022 12:49:21',\n",
    "                '1008':'04/12/2022 12:11:31',\n",
    "                '1009':'04/15/2022 12:37:46',\n",
    "                '1010':'05/06/2022 11:14:05',\n",
    "                '1011':'05/11/2022 12:02:56',\n",
    "                '1012':'05/24/2022 16:42:47',\n",
    "                '1013':'05/27/2022 11:34:26',\n",
    "                '1014':'06/03/2022 11:50:35',\n",
    "                '1015':'06/06/2022 10:41:15'\n",
    "}"
   ]
  },
  {
   "cell_type": "code",
   "execution_count": 65,
   "id": "be154b25",
   "metadata": {},
   "outputs": [],
   "source": [
    "def merge_files(path):\n",
    "    dir_list = os.listdir(path)\n",
    "    dir_list.sort()\n",
    "    df_list = []\n",
    "    for each_dir in dir_list:\n",
    "        df_list.append(pd.read_csv(path + each_dir))\n",
    "    df_merged = pd.concat(df_list)    \n",
    "    df_merged['date'] = pd.to_datetime(df_merged['datetime']).dt.date\n",
    "    df_merged = df_merged.sort_values(by=['datetime'],ascending=True).reset_index(drop=True)\n",
    "    return(df_merged)\n",
    "\n",
    "def get_utc_date(local_time_string):\n",
    "    # local_time_string: met_cart_dic['1000']\n",
    "    local = pytz.timezone(\"America/Chicago\")\n",
    "    naive = datetime.strptime(local_time_string, '%m/%d/%Y %H:%M:%S')\n",
    "    local_dt = local.localize(naive, is_dst=None)\n",
    "    utc_dt = local_dt.astimezone(pytz.utc)\n",
    "    return(utc_dt.strftime(\"%Y-%m-%d\"))"
   ]
  },
  {
   "cell_type": "code",
   "execution_count": 135,
   "id": "be9d0069",
   "metadata": {},
   "outputs": [
    {
     "name": "stdout",
     "output_type": "stream",
     "text": [
      "processing:  1000\n",
      "processing:  1001\n",
      "Invalid: 1001\n",
      "processing:  1002\n",
      "processing:  1003\n",
      "processing:  1004\n",
      "processing:  1005\n",
      "processing:  1006\n",
      "processing:  1007\n",
      "processing:  1008\n",
      "processing:  1009\n",
      "processing:  1010\n",
      "processing:  1011\n",
      "processing:  1012\n",
      "processing:  1013\n",
      "processing:  1014\n",
      "processing:  1015\n"
     ]
    }
   ],
   "source": [
    "for p in participant_list:\n",
    "    print('processing: ', p)\n",
    "    try:\n",
    "        df_acc = merge_files('data_phase_2/' + str(p) + ROOT_PATH_ACC)\n",
    "        df_gyro = merge_files('data_phase_2/' + str(p) + ROOT_PATH_GYRO)\n",
    "\n",
    "        df_acc_corrected = df_acc[df_acc['date']==pd.to_datetime(get_utc_date(met_cart_dic[str(p)]))].reset_index(drop=True)\n",
    "        df_gyro_corrected = df_gyro[df_gyro['date']==pd.to_datetime(get_utc_date(met_cart_dic[str(p)]))].reset_index(drop=True)\n",
    "\n",
    "        # resample\n",
    "        df_resample_acc = resample(df_acc_corrected[['Time','accX','accY','accZ']], 'Time', 20)\n",
    "        df_resample_gyro = resample(df_gyro_corrected[['Time','rotX', 'rotY', 'rotZosboxe']], 'Time', 20)\n",
    "\n",
    "        df_resample_acc.to_csv(os.path.join('data_phase_2/'+str(p)+PATH_RESAMPLE_ACC, 'acc_resample.csv'),index=False)\n",
    "        df_resample_gyro.to_csv(os.path.join('data_phase_2/'+str(p)+PATH_RESAMPLE_GYRO, 'gyro_resample.csv'),index=False)\n",
    "    except:\n",
    "        print('Invalid:', p)"
   ]
  }
 ],
 "metadata": {
  "kernelspec": {
   "display_name": "Python 3",
   "language": "python",
   "name": "python3"
  },
  "language_info": {
   "codemirror_mode": {
    "name": "ipython",
    "version": 3
   },
   "file_extension": ".py",
   "mimetype": "text/x-python",
   "name": "python",
   "nbconvert_exporter": "python",
   "pygments_lexer": "ipython3",
   "version": "3.8.8"
  }
 },
 "nbformat": 4,
 "nbformat_minor": 5
}
